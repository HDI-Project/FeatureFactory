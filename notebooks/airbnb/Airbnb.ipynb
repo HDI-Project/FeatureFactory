{
 "cells": [
  {
   "cell_type": "markdown",
   "metadata": {},
   "source": [
    "# Welcome to Feature Factory for Airbnb\n",
    "\n",
    "FeatureFactory is an online infrastructure that allows one to quickly prototype and test features for different machine learning problems. \n",
    "\n",
    "Before beginning to use Feature Factory, we highly recommend that you familiarize yourself with Jupyter Notebook. Jupyter Notebook is an interactive python kernel that allows you to run code in different cells. Variables created by the code live in the Jupyter Notebook python kernel and can be accessed at any time, by any cell. More information can be found [here](https://jupyter.readthedocs.io/en/latest/content-quickstart.html)."
   ]
  },
  {
   "cell_type": "markdown",
   "metadata": {},
   "source": [
    "# Airbnb Machine Learning Competition\n",
    "\n",
    "## Problem Statement\n",
    "\n",
    "Instead of waking to overlooked \"Do not disturb\" signs, Airbnb travelers find themselves rising with the birds in a whimsical treehouse, having their morning coffee on the deck of a houseboat, or cooking a shared regional breakfast with their hosts.\n",
    "\n",
    "New users on Airbnb can book a place to stay in 34,000+ cities across 190+ countries. By accurately predicting where a new user will book their first travel experience, Airbnb can share more personalized content with their community, decrease the average time to first booking, and better forecast demand.\n",
    "\n",
    "In this recruiting competition, Airbnb challenges you to predict in which country a new user will make his or her first booking.\n",
    "\n",
    "In this competition, you are challenged to identify and derive or generate the features which would help the most in predicting in which country a new user will make his or her first booking.\n",
    "\n",
    "## Data\n",
    "\n",
    "In this challenge, you are given a list of USA users along with their demographics, web session records and some summary statistics.\n",
    "\n",
    "There are 12 possible outcomes of the destination country: 'US', 'FR', 'CA', 'GB', 'ES', 'IT', 'PT', 'NL','DE', 'AU', 'NDF' (no destination found), and 'other'. Please note that 'NDF' is different from 'other' because 'other' means there was a booking, but is to a country not included in the list, while 'NDF' means there wasn't a booking.\n",
    "\n",
    "The dataset is in a relational format, split among mutliple files. When using `commands.get_sample_dataset()` to retrieve the dataset, the files are provided as a list of pandas `DataFrame` objects.\n",
    "\n",
    "The step-by-step example below shows this in detail.\n",
    "\n",
    "### Users Data\n",
    "\n",
    "\n",
    "The users table contains generic information about each user, such as some registration details, as well as the destination of the first booking, which is the variable to predict.\n",
    "\n",
    "| Data Fields | Definition |\n",
    "|-------------|------------|\n",
    "|id           |user id|\n",
    "|date_account_created|the date of account creation|\n",
    "|timestamp_first_active|timestamp of the first activity, note that it can be earlier than date_account_created or date_first_booking because a user can search before signing up|\n",
    "|date_first_booking|date of first booking|\n",
    "|gender||\n",
    "|age||\n",
    "|signup_method||\n",
    "|signup_flow|the page a user came to signup up from|\n",
    "|language|international language preference|\n",
    "|affiliate_channel|what kind of paid marketing|\n",
    "|affiliate_provider|where the marketing is e.g. google, craigslist, other|\n",
    "|first_affiliate_tracked|whats the first marketing the user interacted with before the signing up|\n",
    "|signup_app||\n",
    "|first_device_type||\n",
    "|first_browser||\n",
    "|country_destination|this is the target variable you are to predict|\n",
    "\n",
    "### Sessions Data\n",
    "\n",
    "The sessions data contains information about what actions the user performed on the website before making the first booking.\n",
    "\n",
    "| Data Fields | Definition |\n",
    "|-------------|------------|\n",
    "|user_id      |to be joined with the column 'id' in users table|\n",
    "|action       ||\n",
    "|action_type  ||\n",
    "|action_detail||\n",
    "|device_type  ||\n",
    "|secs_elapsed |||\n",
    "\n",
    "### Countries Data\n",
    "\n",
    "The countries table contains some information about the destination countries.\n",
    "\n",
    "|         Data Fields         | Definition |\n",
    "|-----------------------------|------------|\n",
    "|country_destination          |Two letter country code|\n",
    "|lat_destination              |country latitude|\n",
    "|lng_destination              |country longitude|\n",
    "|distance_km                  |distance from USA, in km|\n",
    "|destination_km2              |country size in km2|\n",
    "|destination_language         |country language|\n",
    "|language_levenshtein_distance|country language levenshtein distance from USA english|\n",
    "\n",
    "### Age Gender  Buckets\n",
    "\n",
    "The Age Gender Buckets table contains some demographic information broadly explaining the age distribution by genders in the destination countries.\n",
    "\n",
    "|         Data Fields         | Definition |\n",
    "|-----------------------------|------------|\n",
    "|age_bucket||\n",
    "|country_destination|Two letter country code, as in countries table|\n",
    "|gender||\n",
    "|population_in_thousands||\n",
    "|year|||\n",
    "\n",
    "\n",
    "&nbsp;\n",
    "&nbsp;"
   ]
  },
  {
   "cell_type": "markdown",
   "metadata": {},
   "source": [
    "## Begin\n",
    "\n",
    "Execute this cell to initialize your FeatureFactory session."
   ]
  },
  {
   "cell_type": "code",
   "execution_count": null,
   "metadata": {
    "collapsed": false
   },
   "outputs": [],
   "source": [
    "from problems.airbnb import commands\n",
   ]
  },
  {
   "cell_type": "markdown",
   "metadata": {},
   "source": [
    "## Load sample data\n",
    "\n",
    "Get a sample dataset. This will allow you to test your feature before running it on the full data in the server. Remember that the dataset is a list of [Pandas DataFrames](http://pandas.pydata.org/pandas-docs/stable/generated/pandas.DataFrame.html)."
   ]
  },
  {
   "cell_type": "code",
   "execution_count": null,
   "metadata": {
    "collapsed": false
   },
   "outputs": [],
   "source": [
    "dataset = commands.get_sample_dataset()\n",
    "# dataset[0] <- this refers to the users data\n",
    "# dataset[1] <- this refers to the sessions data\n",
    "# dataset[2] <- this refers to the country data\n",
    "# dataset[3] <- this refers to the age_gender buckets data"
   ]
  },
  {
   "cell_type": "code",
   "execution_count": null,
   "metadata": {
    "collapsed": false
   },
   "outputs": [],
   "source": [
    "dataset[0][:5]"
   ]
  },
  {
   "cell_type": "code",
   "execution_count": null,
   "metadata": {
    "collapsed": false
   },
   "outputs": [],
   "source": [
    "dataset[1][:5]"
   ]
  },
  {
   "cell_type": "code",
   "execution_count": null,
   "metadata": {
    "collapsed": false
   },
   "outputs": [],
   "source": [
    "dataset[2][:5]"
   ]
  },
  {
   "cell_type": "code",
   "execution_count": null,
   "metadata": {
    "collapsed": false
   },
   "outputs": [],
   "source": [
    "dataset[3][:5]"
   ]
  },
  {
   "cell_type": "markdown",
   "metadata": {},
   "source": [
    "## Example: write and register a feature\n",
    "\n",
    "The name you give to the function is the name which will be used later on to register your feature extaction function and the score which it obtains.\n",
    "\n",
    "Your function should simply take in the dataset list as a parameter and output a N x M numpy matrix or pandas dataframe where N is number of users, one row per user, and M is the number of features which will be used for the prediction.\n",
    "Bear in mind that sorting is important and that, in order to properly evaluate your function score, the extracted features should preserve the order of the user table.\n",
    "\n",
    "Also note that, even though the system allows you to do so, any feature extraction function which makes use of the outcome column will be disqualified.\n",
    "\n",
    "**WARNING:** Your functions have to be self contained!\n",
    "\n",
    "This means that you can use helper functions or import external modules but that any import or variable definition needs to be made within the functions which use them.\n",
    "\n",
    "Cross validation is (intentionally) run in a separated process in order to make sure that this scope pattern is preserved, and will fail if the function uses anything defined somewhere else in the notebook.\n",
    "\n",
    "You might be wondering why we require this. The reason is that the code of your function might be executed and further evaluated in different environments where the variables and modules defined in your notebook will not be available."
   ]
  },
  {
   "cell_type": "code",
   "execution_count": null,
   "metadata": {
    "collapsed": true
   },
   "outputs": [],
   "source": [
    "def example_feature(dataset):\n",
    "    return dataset[0][['age']].fillna(0)"
   ]
  },
  {
   "cell_type": "markdown",
   "metadata": {},
   "source": [
    "&nbsp;\n",
    "&nbsp;\n",
    "\n",
    "Evaluate the score of your feature extraction function before submitting it.\n",
    "\n",
    "You can make use of the `cross_validate` command as many times a needed in order to have a preview of what the score of your function will be."
   ]
  },
  {
   "cell_type": "code",
   "execution_count": null,
   "metadata": {
    "collapsed": false
   },
   "outputs": [],
   "source": [
    "commands.cross_validate(example_feature)"
   ]
  },
  {
   "cell_type": "markdown",
   "metadata": {},
   "source": [
    "&nbsp;\n",
    "&nbsp;\n",
    "\n",
    "Register your function in the system\n",
    "\n",
    "Once you are satisfied with the results, you can call the `add_feature` command passing your function as an argument.\n",
    "This will `cross_validate` the function again and store your code and your score for future analysis.\n",
    "\n",
    "Again, remember that your function code must be self contained and import or define everything it needs to be run successfully."
   ]
  },
  {
   "cell_type": "code",
   "execution_count": null,
   "metadata": {
    "collapsed": false,
    "scrolled": true
   },
   "outputs": [],
   "source": [
    "commands.add_feature(example_feature)"
   ]
  },
  {
   "cell_type": "markdown",
   "metadata": {},
   "source": [
    "&nbsp;\n",
    "&nbsp;\n",
    "\n",
    "Optional: Modify and update your function code.\n",
    "\n",
    "If you discover that your function can be improved you can add it again into the system as many times as required with the same function name.\n",
    "\n",
    "However, for improved clarity, we recommend you to use this option only to fix problems or make small improvements within a similar approach.\n",
    "\n",
    "So, in case you want start a different feature extraction strategy, we strongly recommend you to register it with a new name."
   ]
  },
  {
   "cell_type": "code",
   "execution_count": null,
   "metadata": {
    "collapsed": false
   },
   "outputs": [],
   "source": [
    "def imports():    # We need to import pandas within our functions\n",
    "    global pd\n",
    "    import pandas as pd\n",
    "\n",
    "def one_hot(feature):\n",
    "    \"\"\"Perform one-hot-encoding to a feature column.\"\"\"\n",
    "    return pd.get_dummies(feature)\n",
    "    \n",
    "def example_feature(dataset):\n",
    "    \"\"\"Return a dataset containing only some of the features.\"\"\"\n",
    "    imports()\n",
    "    \n",
    "    age = dataset[0][['age']].fillna(0)\n",
    "    signup = one_hot(dataset[0]['signup_method'])\n",
    "    return pd.concat([age, signup], axis=1)\n",
    "\n",
    "\n",
    "commands.add_feature(example_feature)"
   ]
  },
  {
   "cell_type": "markdown",
   "metadata": {},
   "source": [
    "## Write and register your features here"
   ]
  },
  {
   "cell_type": "code",
   "execution_count": null,
   "metadata": {
    "collapsed": true
   },
   "outputs": [],
   "source": []
  }
 ],
 "metadata": {
  "anaconda-cloud": {},
  "kernelspec": {
   "display_name": "Python [default]",
   "language": "python",
   "name": "python3"
  },
  "language_info": {
   "codemirror_mode": {
    "name": "ipython",
    "version": 3
   },
   "file_extension": ".py",
   "mimetype": "text/x-python",
   "name": "python",
   "nbconvert_exporter": "python",
   "pygments_lexer": "ipython3",
   "version": "3.5.2"
  }
 },
 "nbformat": 4,
 "nbformat_minor": 0
}
