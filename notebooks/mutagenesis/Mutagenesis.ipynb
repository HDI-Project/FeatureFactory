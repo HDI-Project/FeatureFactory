{
 "cells": [
  {
   "cell_type": "markdown",
   "metadata": {},
   "source": [
    "# Welcome to Feature Factory for Mutagenesis\n",
    "\n",
    "FeatureFactory is an online infrastructure that allows one to quickly prototype and test features for different machine learning problems. \n",
    "\n",
    "Before beginning to use Feature Factory, we highly recommend that you familiarize yourself with Jupyter Notebook. Jupyter Notebook is an interactive python kernel that allows you to run code in different cells. Variables created by the code live in the Jupyter Notebook python kernel and can be accessed at any time, by any cell. More information can be found [here](https://jupyter.readthedocs.io/en/latest/content-quickstart.html)."
   ]
  },
  {
   "cell_type": "markdown",
   "metadata": {},
   "source": [
    "# Mutagenesis Machine Learning Competition\n",
    "\n",
    "## Problem Statement\n",
    "\n",
    "Mutagenesis is a well-known benchmark machine learning dataset. It comprises 230 molecules trialled for mutagenicity on Salmonella typhimurium. Debnath et al., [2] showed that a subset of 188 molecules are learnable using linear regression. This subset was later termed the ”regression friendly” dataset. The remaining 42 molecules is named the ”regression unfriendly” subset.\n",
    "\n",
    "Despite the low intrinsic interest from a machine learning perspective, authors have historically concentrated on the set of 188 molecules (hereafter referred to as the mutagenesis dataset). Of the 188 molecules 125 have positive log mutagenicity whereas 63 molecules have zero or negative log mutagenicity. The molecules with positive log mutagenicity are labelled active and the remaining are labelled inactive. In this way predicting mutagenicity for the molecules is a binary categorization problem.\n",
    "\n",
    "Debanth et al., indicated two chemical features and two indicator features for effective learning. The chemical (C) features are lowest unoccupied molecule orbital (LUMO), water/octanol partition coefficient (LOGP) whereas the other two features are pre-coded structural (PS) attributes.\n",
    "\n",
    "Srinivasan et al., [1] encoded structural features of the molecules using first-order logic. The key information is given in the form of atom and bond (AB) description. Atom and bond description is used to define functional groups (FG) including methyl groups, nitro groups, aromatic rings, hetero-aromatic rings, connected rings, ring length and benzene rings.\n",
    "\n",
    "In this competition, you are challenged to work with this dataset and attempt to identify and derive or generate the features which would help the most in predicting whether a particular molecule will be active or inactive.\n",
    "\n",
    "1. Srinivasan, A., Muggleton, S.H., King, R., Sternberg, M.: Theories for mutagenicity: a study of first-order and feature based induction. Artifical Intelligence 85 (1996) 277–299\n",
    "\n",
    "2. Debnath, A.K., de Compadre, R.L.L., Debnath, G., Schusterman, A.J., Hansch, C.: Structure-activity relationship of mutagenic aromatic and heteroaromatics nitro compounds. correlation with molecular orbital energies and hydrophobicity. Journal of Medicinal Chemistry 34 (1991) 786–797\n",
    "\n",
    "\n",
    "## Data\n",
    "\n",
    "The dataset is in a relational format, split among mutliple files. When using `commands.get_sample_dataset()` to retrieve the dataset, the files are provided as a list of pandas `DataFrame` objects with the following columns:\n",
    "\n",
    "![Mutagenic Data Model](https://relational.fit.cvut.cz/assets/img/datasets-generated/mutagenesis.svg)"
   ]
  },
  {
   "cell_type": "markdown",
   "metadata": {},
   "source": [
    "## Begin\n",
    "\n",
    "Execute this cell to initialize your FeatureFactory session."
   ]
  },
  {
   "cell_type": "code",
   "execution_count": null,
   "metadata": {
    "collapsed": false
   },
   "outputs": [],
   "source": [
    "from problems.mutagenesis import commands\n",
    "commands.add_notebook('a_notebook_name')"
   ]
  },
  {
   "cell_type": "markdown",
   "metadata": {},
   "source": [
    "## Load sample data\n",
    "\n",
    "Get a sample dataset. This will allow you to test your feature before running it on the full data in the server. Remember that the dataset is a list of [Pandas DataFrames](http://pandas.pydata.org/pandas-docs/stable/generated/pandas.DataFrame.html)."
   ]
  },
  {
   "cell_type": "code",
   "execution_count": null,
   "metadata": {
    "collapsed": false
   },
   "outputs": [],
   "source": [
    "dataset = commands.get_sample_dataset()\n",
    "# dataset[0] <- this refers to the molecule data\n",
    "# dataset[1] <- this refers to the atom data\n",
    "# dataset[2] <- this refers to the bond data"
   ]
  },
  {
   "cell_type": "code",
   "execution_count": null,
   "metadata": {
    "collapsed": false
   },
   "outputs": [],
   "source": [
    "dataset[0][:5]"
   ]
  },
  {
   "cell_type": "code",
   "execution_count": null,
   "metadata": {
    "collapsed": false
   },
   "outputs": [],
   "source": [
    "dataset[1][:5]"
   ]
  },
  {
   "cell_type": "code",
   "execution_count": null,
   "metadata": {
    "collapsed": false
   },
   "outputs": [],
   "source": [
    "dataset[2][:5]"
   ]
  },
  {
   "cell_type": "markdown",
   "metadata": {},
   "source": [
    "## Example: write and register a feature\n",
    "\n",
    "The name you give to the function is the name which will be used later on to register your feature extraction function and the score which it obtains.\n",
    "\n",
    "Your function should simply take in the dataset list as a parameter and output a N x M numpy matrix or pandas dataframe where N is number of users, one row per user, and M is the number of features which will be used for the prediction.\n",
    "Bear in mind that sorting is important and that, in order to properly evaluate your function score, the extracted features should preserve the order of the user table.\n",
    "\n",
    "Also note that, even though the system allows you to do so, any feature extraction function which makes use of the outcome column will be disqualified.\n",
    "\n",
    "**WARNING:** Your functions have to be self contained!\n",
    "\n",
    "This means that you can use helper functions or import external modules but that any import or variable definition needs to be made within the functions which use them.\n",
    "\n",
    "Cross validation is (intentionally) run in a separated process in order to make sure that this scope pattern is preserved, and will fail if the function uses anything defined somewhere else in the notebook.\n",
    "\n",
    "You might be wondering why we require this. The reason is that the code of your function might be executed and further evaluated in different environments where the variables and modules defined in your notebook will not be available."
   ]
  },
  {
   "cell_type": "code",
   "execution_count": null,
   "metadata": {
    "collapsed": true
   },
   "outputs": [],
   "source": [
    "def example_feature(dataset):\n",
    "    return dataset[0][['lumo']]"
   ]
  },
  {
   "cell_type": "markdown",
   "metadata": {},
   "source": [
    "&nbsp;\n",
    "&nbsp;\n",
    "\n",
    "Evaluate the score of your feature extraction function before submitting it.\n",
    "\n",
    "You can make use of the `cross_validate` command as many times a needed in order to have a preview of what the score of your function will be."
   ]
  },
  {
   "cell_type": "code",
   "execution_count": null,
   "metadata": {
    "collapsed": false
   },
   "outputs": [],
   "source": [
    "commands.cross_validate(example_feature)"
   ]
  },
  {
   "cell_type": "markdown",
   "metadata": {},
   "source": [
    "&nbsp;\n",
    "&nbsp;\n",
    "\n",
    "Register your function in the system\n",
    "\n",
    "Once you are satisfied with the results, you can call the `add_feature` command passing your function as an argument.\n",
    "This will `cross_validate` the function again and store your code and your score for future analysis.\n",
    "\n",
    "Again, remember that your function code must be self contained and import or define everything it needs to be run successfully."
   ]
  },
  {
   "cell_type": "code",
   "execution_count": null,
   "metadata": {
    "collapsed": false,
    "scrolled": true
   },
   "outputs": [],
   "source": [
    "commands.add_feature(example_feature)"
   ]
  },
  {
   "cell_type": "markdown",
   "metadata": {},
   "source": [
    "&nbsp;\n",
    "&nbsp;\n",
    "\n",
    "Optional: Modify and update your function code.\n",
    "\n",
    "If you discover that your function can be improved you can add it again into the system as many times as required with the same function name.\n",
    "\n",
    "However, for improved clarity, we recommend you to use this option only to fix problems or make small improvements within a similar approach.\n",
    "\n",
    "So, in case you want start a different feature extraction strategy, we strongly recommend you to register it with a new name."
   ]
  },
  {
   "cell_type": "code",
   "execution_count": null,
   "metadata": {
    "collapsed": false
   },
   "outputs": [],
   "source": [
    "def imports():    # We need to import pandas within our functions\n",
    "    global pd\n",
    "    import pandas as pd\n",
    "\n",
    "def compute_log(feature):\n",
    "    \"\"\"Compute log of the given column.\"\"\"\n",
    "    return np.log(feature)\n",
    "    \n",
    "def example_feature(dataset):\n",
    "    imports()\n",
    "    \n",
    "    df = dataset[0][['lumo', 'ind1']].copy()\n",
    "    df['log'] = compute_log(-df['lumo'])\n",
    "    return df\n",
    "\n",
    "commands.add_feature(example_feature)"
   ]
  },
  {
   "cell_type": "markdown",
   "metadata": {},
   "source": [
    "## Write and register your features here"
   ]
  },
  {
   "cell_type": "code",
   "execution_count": null,
   "metadata": {
    "collapsed": true
   },
   "outputs": [],
   "source": []
  }
 ],
 "metadata": {
  "anaconda-cloud": {},
  "kernelspec": {
   "display_name": "Python [default]",
   "language": "python",
   "name": "python3"
  },
  "language_info": {
   "codemirror_mode": {
    "name": "ipython",
    "version": 3
   },
   "file_extension": ".py",
   "mimetype": "text/x-python",
   "name": "python",
   "nbconvert_exporter": "python",
   "pygments_lexer": "ipython3",
   "version": "3.5.2"
  }
 },
 "nbformat": 4,
 "nbformat_minor": 0
}
