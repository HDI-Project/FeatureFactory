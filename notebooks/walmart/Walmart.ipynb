{
 "cells": [
  {
   "cell_type": "markdown",
   "metadata": {},
   "source": [
    "# Welcome to Feature Factory for Walmart \n",
    "\n",
    "FeatureFactory is an online infrastructure that allows one to quickly prototype and test features for different machine learning problems. \n",
    "\n",
    "Before beginning to use Feature Factory, we highly recommend that you familiarize yourself with Jupyter Notebook. Jupyter Notebook is an interactive python kernel that allows you to run code in different cells. Variables created by the code live in the Jupyter Notebook python kernel and can be accessed at any time, by any cell. More information can be found [here](https://jupyter.readthedocs.io/en/latest/content-quickstart.html)."
   ]
  },
  {
   "cell_type": "markdown",
   "metadata": {},
   "source": [
    "# Walmart Machine Learning Competition\n",
    "\n",
    "## Problem Statement\n",
    "\n",
    "In this competition, you are provided with historical sales data for 45 Walmart stores located in different regions. Each store contains many departments, and participants must project the sales for each department in each store. To add to the challenge, selected holiday markdown events are included in the dataset. These markdowns are known to affect sales, but it is challenging to predict which departments are affected and the extent of the impact.\n",
    "\n",
    "## Data\n",
    "\n",
    "The dataset is in a relational format, split among mutliple files. When using `commands.get_sample_dataset()` to retrieve the dataset, the files are provided as a list of *pandas* `DataFrame` objects.\n",
    "\n",
    "The step-by-step example below shows this in detail.\n",
    "\n",
    "### Sales Data\n",
    "\n",
    "The sales table contains the details about the weekly sales which each store department made within the studied period of time. This table also includes information about whether a particular date was a holiday or not.\n",
    "\n",
    "| Data Fields | Definition |\n",
    "|-------------|------------|\n",
    "|Store        |the store number|\n",
    "|Dept         |the department number|\n",
    "|Date         |the week|\n",
    "|Weekly_Sales |sales for the given department in the given store. This is what needs to be predicted.|\n",
    "|IsHoliday    |whether the week is a special holiday week|\n",
    "\n",
    "### Stores Data\n",
    "\n",
    "The stores data contains anonymized information about each store, indicating its type and its size.\n",
    "\n",
    "| Data Fields | Definition |\n",
    "|-------------|------------|\n",
    "|Store        |the store number|\n",
    "|Type         |Type of store|\n",
    "|Size         |Size of the store|\n",
    "\n",
    "### Features Data\n",
    "\n",
    "This table contains additional data related to the store, department, and regional activity for the given dates.\n",
    "\n",
    "|         Data Fields         | Definition |\n",
    "|-----------------------------|------------|\n",
    "|Store       |the store number|\n",
    "|Date        |the week|\n",
    "|Temperature |average temperature in the region|\n",
    "|Fuel_Price  |cost of fuel in the region|\n",
    "|MarkDown1   |anonymized data related to promotional markdowns that Walmart is running. MarkDown data is only available after Nov 2011, and is not available for all stores all the time. Any missing value is marked with an NA.|\n",
    "|CPI         |the consumer price index|\n",
    "|Unemployment|the unemployment rate|\n",
    "|IsHoliday   |whether the week is a special holiday week|"
   ]
  },
  {
   "cell_type": "markdown",
   "metadata": {},
   "source": [
    "## Begin\n",
    "\n",
    "Execute this cell to initialize your FeatureFactory session."
   ]
  },
  {
   "cell_type": "code",
   "execution_count": null,
   "metadata": {
    "collapsed": false
   },
   "outputs": [],
   "source": [
    "from problems.walmart import commands"
   ]
  },
  {
   "cell_type": "markdown",
   "metadata": {},
   "source": [
    "## Load sample data\n",
    "\n",
    "Get a sample dataset. This will allow you to test your feature before running it on the full data in the server. Remember that the dataset is a list of [Pandas DataFrames](http://pandas.pydata.org/pandas-docs/stable/generated/pandas.DataFrame.html)."
   ]
  },
  {
   "cell_type": "code",
   "execution_count": null,
   "metadata": {
    "collapsed": false
   },
   "outputs": [],
   "source": [
    "dataset = commands.get_sample_dataset()\n",
    "# dataset[0] <- this refers to the sales data\n",
    "# dataset[1] <- this refers to the stores data\n",
    "# dataset[2] <- this refers to the features data"
   ]
  },
  {
   "cell_type": "code",
   "execution_count": null,
   "metadata": {
    "collapsed": false
   },
   "outputs": [],
   "source": [
    "dataset[0][:5]"
   ]
  },
  {
   "cell_type": "code",
   "execution_count": null,
   "metadata": {
    "collapsed": false
   },
   "outputs": [],
   "source": [
    "dataset[1][:5]"
   ]
  },
  {
   "cell_type": "code",
   "execution_count": null,
   "metadata": {
    "collapsed": false
   },
   "outputs": [],
   "source": [
    "dataset[2][:5]"
   ]
  },
  {
   "cell_type": "markdown",
   "metadata": {},
   "source": [
    "## Example: write and register a feature\n",
    "\n",
    "The name you give to the function is the name which will be used later on to register your feature extraction function and the score which it obtains.\n",
    "\n",
    "Your function should simply take in the dataset list as a parameter and output a N x M numpy matrix or pandas dataframe where N is number of users, one row per user, and M is the number of features which will be used for the prediction.\n",
    "Bear in mind that sorting is important and that, in order to properly evaluate your function score, the extracted features should preserve the order of the user table.\n",
    "\n",
    "Also note that, even though the system allows you to do so, any feature extraction function which makes use of the outcome column will be disqualified.\n",
    "\n",
    "**WARNING:** Your functions have to be self contained!\n",
    "\n",
    "This means that you can use helper functions or import external modules but that any import or variable definition needs to be made within the functions which use them.\n",
    "\n",
    "Cross validation is (intentionally) run in a separated process in order to make sure that this scope pattern is preserved, and will fail if the function uses anything defined somewhere else in the notebook.\n",
    "\n",
    "You might be wondering why we require this. The reason is that the code of your function might be executed and further evaluated in different environments where the variables and modules defined in your notebook will not be available."
   ]
  },
  {
   "cell_type": "code",
   "execution_count": null,
   "metadata": {
    "collapsed": true
   },
   "outputs": [],
   "source": [
    "def example_feature(dataset):\n",
    "    return dataset[0][['Dept', 'IsHoliday']].fillna(0)"
   ]
  },
  {
   "cell_type": "markdown",
   "metadata": {},
   "source": [
    "&nbsp;\n",
    "&nbsp;\n",
    "\n",
    "Evaluate the score of your feature extraction function before submitting it.\n",
    "\n",
    "You can make use of the `cross_validate` command as many times a needed in order to have a preview of what the score of your function will be."
   ]
  },
  {
   "cell_type": "code",
   "execution_count": null,
   "metadata": {
    "collapsed": false
   },
   "outputs": [],
   "source": [
    "commands.cross_validate(example_feature)"
   ]
  },
  {
   "cell_type": "markdown",
   "metadata": {},
   "source": [
    "&nbsp;\n",
    "&nbsp;\n",
    "\n",
    "Register your function in the system\n",
    "\n",
    "Once you are satisfied with the results, you can call the `register_feature` command passing your function as an argument.\n",
    "This will `cross_validate` the function again and store your code and your score for future analysis.\n",
    "\n",
    "Again, remember that your function code must be self contained and import or define everything it needs to be run successfully."
   ]
  },
  {
   "cell_type": "code",
   "execution_count": null,
   "metadata": {
    "collapsed": false,
    "scrolled": true
   },
   "outputs": [],
   "source": [
    "commands.register_feature(example_feature)"
   ]
  },
  {
   "cell_type": "markdown",
   "metadata": {},
   "source": [
    "&nbsp;\n",
    "&nbsp;\n",
    "\n",
    "Optional: Modify and update your function code.\n",
    "\n",
    "If you discover that your function can be improved you can add it again into the system as many times as required with the same function name.\n",
    "\n",
    "However, for improved clarity, we recommend you to use this option only to fix problems or make small improvements within a similar approach.\n",
    "\n",
    "So, in case you want start a different feature extraction strategy, we strongly recommend you to register it with a new name."
   ]
  },
  {
   "cell_type": "code",
   "execution_count": null,
   "metadata": {
    "collapsed": false
   },
   "outputs": [],
   "source": [
    "def imports():    # We need to import pandas within our functions\n",
    "    global pd\n",
    "    import pandas as pd\n",
    "\n",
    "def one_hot(feature):\n",
    "    \"\"\"Perform one-hot-encoding to a feature column.\"\"\"\n",
    "    return pd.get_dummies(feature)\n",
    "    \n",
    "def example_feature(dataset):\n",
    "    \"\"\"Return a dataset containing only some of the features.\"\"\"\n",
    "    imports()\n",
    "    \n",
    "    dept_holiday = dataset[0][['Dept', 'IsHoliday']].fillna(0)\n",
    "    store_type = one_hot(dataset[0].merge(dataset[1], on='Store')['Type'])\n",
    "    return pd.concat([dept_holiday, store_type], axis=1)\n",
    "\n",
    "\n",
    "commands.register_feature(example_feature)"
   ]
  },
  {
   "cell_type": "markdown",
   "metadata": {},
   "source": [
    "## Write and register your features here"
   ]
  },
  {
   "cell_type": "code",
   "execution_count": null,
   "metadata": {
    "collapsed": true
   },
   "outputs": [],
   "source": []
  }
 ],
 "metadata": {
  "anaconda-cloud": {},
  "kernelspec": {
   "display_name": "Python [default]",
   "language": "python",
   "name": "python3"
  },
  "language_info": {
   "codemirror_mode": {
    "name": "ipython",
    "version": 3
   },
   "file_extension": ".py",
   "mimetype": "text/x-python",
   "name": "python",
   "nbconvert_exporter": "python",
   "pygments_lexer": "ipython3",
   "version": "3.5.2"
  }
 },
 "nbformat": 4,
 "nbformat_minor": 0
}
